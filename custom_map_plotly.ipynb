{
 "cells": [
  {
   "cell_type": "markdown",
   "metadata": {},
   "source": [
    "## Custom location choropleth plot using plotly (Italy)\n",
    "\n",
    "![alt text](italy_map.PNG \"Custom Map\")\n",
    "\n"
   ]
  },
  {
   "cell_type": "markdown",
   "metadata": {},
   "source": [
    "### The final code:"
   ]
  },
  {
   "cell_type": "code",
   "execution_count": null,
   "metadata": {},
   "outputs": [],
   "source": [
    "import pandas as pd    # to work with our dataframe\n",
    "import plotly.express as px    # to plot the choropleth\n",
    "import json    # to read your location's geojson from local directory\n",
    "import requests    # to read your location's geojson from online resource\n",
    "import random    # to create random data\n",
    "\n",
    "with open('italy.json') as response:\n",
    "    region_geo = json.loads(response.read())\n",
    "    \n",
    "province= []\n",
    "for i in region_geo['features']:\n",
    "    province.append(i['properties']['NOME_REG'])\n",
    "\n",
    "df= pd.DataFrame(province, columns= ['province'])\n",
    "df['total'] = [random.randint(1000,2000) for i in df['province']]\n",
    "\n",
    "fig = px.choropleth(data_frame = df, \n",
    "                    geojson = region_geo, \n",
    "                    locations = 'province', # name of dataframe column\n",
    "                    featureidkey = 'properties.NOME_REG',  # path to field in GeoJSON feature object with which to match the values passed in to locations\n",
    "                    color='total',\n",
    "                    color_continuous_scale=\"blues\",\n",
    "                    scope=\"europe\",\n",
    "                   )\n",
    "# to only show italy map\n",
    "fig.update_geos(fitbounds=\"locations\", visible=False)\n",
    "fig.update_layout(title= 'Italy choropleth map')\n",
    "fig.show()"
   ]
  },
  {
   "cell_type": "markdown",
   "metadata": {},
   "source": [
    "### Step-by-step explaination:\n",
    "\n",
    "----------------------------------"
   ]
  },
  {
   "cell_type": "markdown",
   "metadata": {},
   "source": [
    "### Imports:"
   ]
  },
  {
   "cell_type": "code",
   "execution_count": null,
   "metadata": {},
   "outputs": [],
   "source": [
    "import pandas as pd    # to work with our dataframe\n",
    "import plotly.express as px    # to plot the choropleth\n",
    "import json    # to read your location's geojson from local directory\n",
    "import requests    # to read your location's geojson from online resource"
   ]
  },
  {
   "cell_type": "markdown",
   "metadata": {},
   "source": [
    "### Get geojson of our location (Italy):\n",
    "#### We need to pass this json in the \"geojson\" parameter of choropleth.\n",
    "\n",
    "> Best way to find our geojson is to search \"location_name geojson\" (italy geojson).\n",
    "\n",
    "> find the right .json or .geojson file.\n",
    "\n",
    "> You can use these resources to check if its the right region: https://geojson.io/ | http://geojson.tools\n",
    "\n",
    "> If you find the file on github, be sure to click \"download\" or \"view raw\".\n",
    "\n",
    "> Italy geojson: https://gist.githubusercontent.com/datajournalism-it/48e29e7c87dca7eb1d29/raw/2636aeef92ba0770a073424853f37690064eb0ea/regioni.geojson\n",
    "\n",
    "\n",
    "There are 2 ways we save the geojson:\n",
    "1. Use online resource.\n",
    "\n",
    "> Copy that link when you click \"view raw\". It'll look like this: https://gist.githubusercontent.com/datajournalism-it/48e29e7c87dca7eb1d29/raw/2636aeef92ba0770a073424853f37690064eb0ea/regioni.geojson\n",
    "\n",
    "> Use request library to get data from the link."
   ]
  },
  {
   "cell_type": "code",
   "execution_count": null,
   "metadata": {},
   "outputs": [],
   "source": [
    "url = 'https://gist.githubusercontent.com/datajournalism-it/48e29e7c87dca7eb1d29/raw/2636aeef92ba0770a073424853f37690064eb0ea/regioni.geojson'\n",
    "region_geo = requests.get(url).json()\n"
   ]
  },
  {
   "cell_type": "markdown",
   "metadata": {},
   "source": [
    "2. Download the geojson\n",
    "\n",
    "> Once you click \"view raw\" you'll get the raw json data: https://gist.githubusercontent.com/datajournalism-it/48e29e7c87dca7eb1d29/raw/2636aeef92ba0770a073424853f37690064eb0ea/regioni.geojson\n",
    "\n",
    "> Select all > copy > paste it in notepad (or any text editor) and save it as region.json\n",
    "\n",
    "> Use json library to read and store it to variable \"region_geo\""
   ]
  },
  {
   "cell_type": "code",
   "execution_count": null,
   "metadata": {},
   "outputs": [],
   "source": [
    "with open('italy.json') as response:\n",
    "    region_geo = json.loads(response.read())"
   ]
  },
  {
   "cell_type": "markdown",
   "metadata": {},
   "source": [
    "----------------------------------------------------------------------------------------------\n",
    "The data you get from raw json (https://gist.githubusercontent.com/datajournalism-it/48e29e7c87dca7eb1d29/raw/2636aeef92ba0770a073424853f37690064eb0ea/regioni.geojson) looks messy.\n",
    "\n",
    "To make better sense of it, paste it in text box of json viewer: http://jsonviewer.stack.hu/\n",
    "\n",
    "Click \"**Viewer**\", and you'll see something simplified like this:\n",
    "\n",
    "![alt text](italy_json_simplified.PNG \"Json viewer\")\n",
    "\n",
    "The highlighted part is where the location names are. Here its in the value of **key called \"NOME_REG\"**. We'll need this key name for **\"featureidkey\" parameter** in choropleth.\n",
    "\n",
    "Different geojsons have different key names, but we'll always need the one with the locations.\n",
    "\n",
    "-----------------------------------------------------------"
   ]
  },
  {
   "cell_type": "markdown",
   "metadata": {},
   "source": [
    "### Data\n",
    "The dataframe will need 2 columns: \n",
    "\n",
    "'**province**' : Name of locations. Must be same as location names (value of key called \"NOME_REG\" in this example) in the json\n",
    "\n",
    "'**total**' : Value for colour.\n",
    "\n",
    "If values of '**province**' is not in the geojson, choropleth will not read it."
   ]
  },
  {
   "cell_type": "markdown",
   "metadata": {},
   "source": [
    "### Retrieving the data\n",
    "If you already have the data, skip the next cell, I had to make dummy data myself when I worked on choropleths.\n",
    "\n",
    "This json is structured like this: **dict ( list [ dict ( dict ( str ) ) ] )**\n",
    "\n",
    "Its okay if you don't understand this, we'll go through it one by one to get the location names.\n",
    "\n",
    "Location names are in \"str\", we'll iterate through the \"list\" and retrieve it.\n",
    "\n",
    "Keep referring the simplified json."
   ]
  },
  {
   "cell_type": "code",
   "execution_count": null,
   "metadata": {},
   "outputs": [],
   "source": [
    "province= []\n",
    "for i in region_geo['features']:\n",
    "    province.append(i['properties']['NOME_REG'])"
   ]
  },
  {
   "cell_type": "markdown",
   "metadata": {},
   "source": [
    "Explaination:\n",
    "\n",
    "1. **region_geo** is a dictionary with 3 keys: ***['type', 'crs', 'features']***\n",
    "\n",
    "\n",
    "2. **region_geo ['features']** is a list we iterate over using \"for loop\".\n",
    "\n",
    "\n",
    "3. **region_geo ['features'] [0]** is a dictionary. First element of list above. Its has 3 keys: ***['type', 'properties', 'geometry']***\n",
    "\n",
    "\n",
    "4. **region_geo ['features'] [0] ['properties']** is a dictionary that has ***{'NOME_REG': 'Piemonte'}***\n",
    "\n",
    "\n",
    "5. **region_geo ['features'] [0] ['properties'] ['NOME_REG']** is a string with our location name.\n",
    "\n",
    "Most geojson are structured in a similar way (except \"NOME_REG\", that'll be a different name). You can use the simplified json to retrieve location names."
   ]
  },
  {
   "cell_type": "code",
   "execution_count": null,
   "metadata": {},
   "outputs": [],
   "source": [
    "import random\n",
    "\n",
    "df= pd.DataFrame(province, columns= ['province'])\n",
    "df['total'] = [random.randint(1000,2000) for i in df['province']]\n",
    "\n",
    "df.head()"
   ]
  },
  {
   "cell_type": "markdown",
   "metadata": {},
   "source": [
    "### Create choropleth"
   ]
  },
  {
   "cell_type": "code",
   "execution_count": null,
   "metadata": {},
   "outputs": [],
   "source": [
    "fig = px.choropleth(data_frame = df, \n",
    "                    geojson = region_geo, \n",
    "                    locations = 'province', # name of dataframe column\n",
    "                    featureidkey = 'properties.NOME_REG',  # path to field in GeoJSON feature object with which to match the values passed in to locations\n",
    "                    color='total',\n",
    "                    color_continuous_scale=\"blues\",\n",
    "                    scope=\"europe\",\n",
    "                   )\n",
    "# to only show italy map\n",
    "fig.update_geos(fitbounds=\"locations\", visible=False)\n",
    "fig.update_layout(title= 'Italy choropleth map')\n",
    "fig.show()"
   ]
  },
  {
   "cell_type": "markdown",
   "metadata": {},
   "source": [
    "### Other links\n",
    "\n",
    "#### Geojsons\n",
    "\n",
    "UK - https://martinjc.github.io/UK-GeoJSON/\n",
    "\n",
    "USA - https://github.com/deldersveld/topojson/tree/master/countries/us-states\n",
    "\n",
    "Italy - 'https://gist.githubusercontent.com/datajournalism-it/48e29e7c87dca7eb1d29/raw/2636aeef92ba0770a073424853f37690064eb0ea/regioni.geojson'\n",
    "\n",
    "India - https://gist.githubusercontent.com/jbrobst/56c13bbbf9d97d187fea01ca62ea5112/raw/e388c4cae20aa53cb5090210a42ebb9b765c0a36/india_states.geojson\n",
    "\n",
    "France (contains accents that plotly doesnt recognise, remove accents) - https://raw.githubusercontent.com/gregoiredavid/france-geojson/master/regions.geojson\n",
    "\n",
    "----------------------------------------------------------\n",
    "#### Json viewers\n",
    "geojson map preview -\n",
    "> http://geojson.tools/\n",
    "\n",
    "> https://geojson.io/\n",
    "\n",
    "> VS code map preview extension - https://marketplace.visualstudio.com/items?itemName=jumpinjackie.vscode-map-preview\n",
    "\n",
    "json viewer (for simplified view) - http://jsonviewer.stack.hu/"
   ]
  }
 ],
 "metadata": {
  "kernelspec": {
   "display_name": "Python 3",
   "language": "python",
   "name": "python3"
  },
  "language_info": {
   "codemirror_mode": {
    "name": "ipython",
    "version": 3
   },
   "file_extension": ".py",
   "mimetype": "text/x-python",
   "name": "python",
   "nbconvert_exporter": "python",
   "pygments_lexer": "ipython3",
   "version": "3.7.5"
  }
 },
 "nbformat": 4,
 "nbformat_minor": 2
}
